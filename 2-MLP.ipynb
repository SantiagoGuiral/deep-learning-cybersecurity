{
 "cells": [
  {
   "cell_type": "code",
   "execution_count": 1,
   "id": "6a9f53e2-715a-4242-8721-53a1858472dc",
   "metadata": {},
   "outputs": [],
   "source": [
    "import numpy as np\n",
    "import pandas as pd\n",
    "import seaborn as sns\n",
    "import matplotlib.pyplot as plt\n",
    "from collections import Counter\n",
    "from string import ascii_letters"
   ]
  },
  {
   "cell_type": "code",
   "execution_count": 2,
   "id": "ddaaeb06-e050-4a9f-83b8-7e1259332fc3",
   "metadata": {},
   "outputs": [
    {
     "name": "stderr",
     "output_type": "stream",
     "text": [
      "2023-05-19 09:01:49.804713: W tensorflow/stream_executor/platform/default/dso_loader.cc:64] Could not load dynamic library 'libcudart.so.11.0'; dlerror: libcudart.so.11.0: cannot open shared object file: No such file or directory\n",
      "2023-05-19 09:01:49.804739: I tensorflow/stream_executor/cuda/cudart_stub.cc:29] Ignore above cudart dlerror if you do not have a GPU set up on your machine.\n",
      "2023-05-19 09:01:51.823437: W tensorflow/stream_executor/platform/default/dso_loader.cc:64] Could not load dynamic library 'libcuda.so.1'; dlerror: libcuda.so.1: cannot open shared object file: No such file or directory\n",
      "2023-05-19 09:01:51.823461: W tensorflow/stream_executor/cuda/cuda_driver.cc:269] failed call to cuInit: UNKNOWN ERROR (303)\n",
      "2023-05-19 09:01:51.823482: I tensorflow/stream_executor/cuda/cuda_diagnostics.cc:156] kernel driver does not appear to be running on this host (santiagoguiral-hp-p15): /proc/driver/nvidia/version does not exist\n",
      "2023-05-19 09:01:51.823724: I tensorflow/core/platform/cpu_feature_guard.cc:151] This TensorFlow binary is optimized with oneAPI Deep Neural Network Library (oneDNN) to use the following CPU instructions in performance-critical operations:  AVX2 FMA\n",
      "To enable them in other operations, rebuild TensorFlow with the appropriate compiler flags.\n"
     ]
    }
   ],
   "source": [
    "from tensorflow import keras\n",
    "from sklearn.metrics import confusion_matrix\n",
    "from sklearn.metrics import classification_report\n",
    "import seaborn as sn\n",
    "\n",
    "def evaluate_model (model,x_test,y_test):\n",
    "    y_predicted = model.predict(x_test)\n",
    "    y_predicted = np.array([0 if prediction < 0.5 else 1 for prediction in y_predicted])\n",
    "    cm = confusion_matrix(y_test, y_predicted)\n",
    "    print(classification_report(y_test,y_predicted))\n",
    "    tn, fp, fn, tp = confusion_matrix(y_test, y_predicted).ravel()\n",
    "    \n",
    "    #metrics\n",
    "    print(\"True Negative: \",tn)\n",
    "    print(\"False Positive: \",fp)\n",
    "    print(\"False Negative: \",fn)\n",
    "    print(\"True Negative: \",tp)\n",
    "    \n",
    "    tpr = tp/(tp+fn) #Recall\n",
    "    tnr = tn/(tn+fp) #Specificity\n",
    "    fnr = fn/(fn+tp)\n",
    "    fpr = fp/(fp+tn)\n",
    "    precision = tp/(tp+fp)\n",
    "    \n",
    "    print(\"True Positive Rate (Recall): \",tpr)\n",
    "    print(\"True Negative Rate (Specificity): \",tnr)\n",
    "    print(\"False Negative Rate: \",fnr)\n",
    "    print(\"False Positive Rate: \",fpr)\n",
    "    print(\"Precision: \",precision)\n",
    "    \n",
    "    #confusion matrix\n",
    "    plt.figure(figsize=(14,8))\n",
    "    sn.heatmap(cm, annot=True)\n",
    "    plt.xlabel('Predicted', fontsize=24)\n",
    "    plt.ylabel('Truth',fontsize=24)\n",
    "    \n",
    "\n",
    "Metrics = [\n",
    "    keras.metrics.TruePositives(name = 'tp'),\n",
    "    keras.metrics.FalsePositives(name = 'fp'),\n",
    "    keras.metrics.TrueNegatives(name = 'tn'),\n",
    "    keras.metrics.FalseNegatives(name = 'fn'),\n",
    "    keras.metrics.BinaryAccuracy(name = \"accuracy\"),\n",
    "    keras.metrics.Precision(name = 'precision'),\n",
    "    keras.metrics.Recall(name = 'recall')\n",
    "    \n",
    "]"
   ]
  },
  {
   "cell_type": "code",
   "execution_count": 3,
   "id": "27d02201-10e9-4bef-b64d-4ba984dfe692",
   "metadata": {},
   "outputs": [
    {
     "data": {
      "text/html": [
       "<div>\n",
       "<style scoped>\n",
       "    .dataframe tbody tr th:only-of-type {\n",
       "        vertical-align: middle;\n",
       "    }\n",
       "\n",
       "    .dataframe tbody tr th {\n",
       "        vertical-align: top;\n",
       "    }\n",
       "\n",
       "    .dataframe thead th {\n",
       "        text-align: right;\n",
       "    }\n",
       "</style>\n",
       "<table border=\"1\" class=\"dataframe\">\n",
       "  <thead>\n",
       "    <tr style=\"text-align: right;\">\n",
       "      <th></th>\n",
       "      <th>Source Port</th>\n",
       "      <th>Destination Port</th>\n",
       "      <th>Flow Duration</th>\n",
       "      <th>Total Fwd Packets</th>\n",
       "      <th>Total Backward Packets</th>\n",
       "      <th>Total Length of Fwd Packets</th>\n",
       "      <th>Total Length of Bwd Packets</th>\n",
       "      <th>Fwd Packet Length Max</th>\n",
       "      <th>Fwd Packet Length Min</th>\n",
       "      <th>Fwd Packet Length Mean</th>\n",
       "      <th>...</th>\n",
       "      <th>min_seg_size_forward</th>\n",
       "      <th>Active Mean</th>\n",
       "      <th>Active Std</th>\n",
       "      <th>Active Max</th>\n",
       "      <th>Active Min</th>\n",
       "      <th>Idle Mean</th>\n",
       "      <th>Idle Std</th>\n",
       "      <th>Idle Max</th>\n",
       "      <th>Idle Min</th>\n",
       "      <th>Label</th>\n",
       "    </tr>\n",
       "  </thead>\n",
       "  <tbody>\n",
       "    <tr>\n",
       "      <th>971704</th>\n",
       "      <td>80</td>\n",
       "      <td>48163</td>\n",
       "      <td>3</td>\n",
       "      <td>2</td>\n",
       "      <td>0</td>\n",
       "      <td>0.0</td>\n",
       "      <td>0.0</td>\n",
       "      <td>0.0</td>\n",
       "      <td>0.0</td>\n",
       "      <td>0.000000</td>\n",
       "      <td>...</td>\n",
       "      <td>32</td>\n",
       "      <td>0.0</td>\n",
       "      <td>0.0</td>\n",
       "      <td>0.0</td>\n",
       "      <td>0.0</td>\n",
       "      <td>0.0</td>\n",
       "      <td>0.0</td>\n",
       "      <td>0.0</td>\n",
       "      <td>0.0</td>\n",
       "      <td>0</td>\n",
       "    </tr>\n",
       "    <tr>\n",
       "      <th>306273</th>\n",
       "      <td>38030</td>\n",
       "      <td>4004</td>\n",
       "      <td>44</td>\n",
       "      <td>1</td>\n",
       "      <td>1</td>\n",
       "      <td>0.0</td>\n",
       "      <td>6.0</td>\n",
       "      <td>0.0</td>\n",
       "      <td>0.0</td>\n",
       "      <td>0.000000</td>\n",
       "      <td>...</td>\n",
       "      <td>40</td>\n",
       "      <td>0.0</td>\n",
       "      <td>0.0</td>\n",
       "      <td>0.0</td>\n",
       "      <td>0.0</td>\n",
       "      <td>0.0</td>\n",
       "      <td>0.0</td>\n",
       "      <td>0.0</td>\n",
       "      <td>0.0</td>\n",
       "      <td>1</td>\n",
       "    </tr>\n",
       "    <tr>\n",
       "      <th>781166</th>\n",
       "      <td>45132</td>\n",
       "      <td>80</td>\n",
       "      <td>1</td>\n",
       "      <td>2</td>\n",
       "      <td>0</td>\n",
       "      <td>0.0</td>\n",
       "      <td>0.0</td>\n",
       "      <td>0.0</td>\n",
       "      <td>0.0</td>\n",
       "      <td>0.000000</td>\n",
       "      <td>...</td>\n",
       "      <td>32</td>\n",
       "      <td>0.0</td>\n",
       "      <td>0.0</td>\n",
       "      <td>0.0</td>\n",
       "      <td>0.0</td>\n",
       "      <td>0.0</td>\n",
       "      <td>0.0</td>\n",
       "      <td>0.0</td>\n",
       "      <td>0.0</td>\n",
       "      <td>1</td>\n",
       "    </tr>\n",
       "    <tr>\n",
       "      <th>1055732</th>\n",
       "      <td>39070</td>\n",
       "      <td>51493</td>\n",
       "      <td>75</td>\n",
       "      <td>1</td>\n",
       "      <td>1</td>\n",
       "      <td>2.0</td>\n",
       "      <td>6.0</td>\n",
       "      <td>2.0</td>\n",
       "      <td>2.0</td>\n",
       "      <td>2.000000</td>\n",
       "      <td>...</td>\n",
       "      <td>24</td>\n",
       "      <td>0.0</td>\n",
       "      <td>0.0</td>\n",
       "      <td>0.0</td>\n",
       "      <td>0.0</td>\n",
       "      <td>0.0</td>\n",
       "      <td>0.0</td>\n",
       "      <td>0.0</td>\n",
       "      <td>0.0</td>\n",
       "      <td>1</td>\n",
       "    </tr>\n",
       "    <tr>\n",
       "      <th>837110</th>\n",
       "      <td>17443</td>\n",
       "      <td>80</td>\n",
       "      <td>300033</td>\n",
       "      <td>2</td>\n",
       "      <td>5</td>\n",
       "      <td>20.0</td>\n",
       "      <td>11601.0</td>\n",
       "      <td>20.0</td>\n",
       "      <td>0.0</td>\n",
       "      <td>10.000000</td>\n",
       "      <td>...</td>\n",
       "      <td>20</td>\n",
       "      <td>0.0</td>\n",
       "      <td>0.0</td>\n",
       "      <td>0.0</td>\n",
       "      <td>0.0</td>\n",
       "      <td>0.0</td>\n",
       "      <td>0.0</td>\n",
       "      <td>0.0</td>\n",
       "      <td>0.0</td>\n",
       "      <td>1</td>\n",
       "    </tr>\n",
       "    <tr>\n",
       "      <th>667135</th>\n",
       "      <td>48350</td>\n",
       "      <td>7435</td>\n",
       "      <td>41</td>\n",
       "      <td>1</td>\n",
       "      <td>1</td>\n",
       "      <td>0.0</td>\n",
       "      <td>6.0</td>\n",
       "      <td>0.0</td>\n",
       "      <td>0.0</td>\n",
       "      <td>0.000000</td>\n",
       "      <td>...</td>\n",
       "      <td>40</td>\n",
       "      <td>0.0</td>\n",
       "      <td>0.0</td>\n",
       "      <td>0.0</td>\n",
       "      <td>0.0</td>\n",
       "      <td>0.0</td>\n",
       "      <td>0.0</td>\n",
       "      <td>0.0</td>\n",
       "      <td>0.0</td>\n",
       "      <td>1</td>\n",
       "    </tr>\n",
       "    <tr>\n",
       "      <th>293864</th>\n",
       "      <td>50332</td>\n",
       "      <td>443</td>\n",
       "      <td>187764</td>\n",
       "      <td>13</td>\n",
       "      <td>8</td>\n",
       "      <td>1433.0</td>\n",
       "      <td>3952.0</td>\n",
       "      <td>949.0</td>\n",
       "      <td>0.0</td>\n",
       "      <td>110.230769</td>\n",
       "      <td>...</td>\n",
       "      <td>32</td>\n",
       "      <td>0.0</td>\n",
       "      <td>0.0</td>\n",
       "      <td>0.0</td>\n",
       "      <td>0.0</td>\n",
       "      <td>0.0</td>\n",
       "      <td>0.0</td>\n",
       "      <td>0.0</td>\n",
       "      <td>0.0</td>\n",
       "      <td>0</td>\n",
       "    </tr>\n",
       "    <tr>\n",
       "      <th>423185</th>\n",
       "      <td>33448</td>\n",
       "      <td>1244</td>\n",
       "      <td>49</td>\n",
       "      <td>1</td>\n",
       "      <td>1</td>\n",
       "      <td>0.0</td>\n",
       "      <td>6.0</td>\n",
       "      <td>0.0</td>\n",
       "      <td>0.0</td>\n",
       "      <td>0.000000</td>\n",
       "      <td>...</td>\n",
       "      <td>40</td>\n",
       "      <td>0.0</td>\n",
       "      <td>0.0</td>\n",
       "      <td>0.0</td>\n",
       "      <td>0.0</td>\n",
       "      <td>0.0</td>\n",
       "      <td>0.0</td>\n",
       "      <td>0.0</td>\n",
       "      <td>0.0</td>\n",
       "      <td>1</td>\n",
       "    </tr>\n",
       "  </tbody>\n",
       "</table>\n",
       "<p>8 rows × 69 columns</p>\n",
       "</div>"
      ],
      "text/plain": [
       "          Source Port   Destination Port   Flow Duration   Total Fwd Packets  \\\n",
       "971704             80              48163               3                   2   \n",
       "306273          38030               4004              44                   1   \n",
       "781166          45132                 80               1                   2   \n",
       "1055732         39070              51493              75                   1   \n",
       "837110          17443                 80          300033                   2   \n",
       "667135          48350               7435              41                   1   \n",
       "293864          50332                443          187764                  13   \n",
       "423185          33448               1244              49                   1   \n",
       "\n",
       "          Total Backward Packets  Total Length of Fwd Packets  \\\n",
       "971704                         0                          0.0   \n",
       "306273                         1                          0.0   \n",
       "781166                         0                          0.0   \n",
       "1055732                        1                          2.0   \n",
       "837110                         5                         20.0   \n",
       "667135                         1                          0.0   \n",
       "293864                         8                       1433.0   \n",
       "423185                         1                          0.0   \n",
       "\n",
       "          Total Length of Bwd Packets   Fwd Packet Length Max  \\\n",
       "971704                            0.0                     0.0   \n",
       "306273                            6.0                     0.0   \n",
       "781166                            0.0                     0.0   \n",
       "1055732                           6.0                     2.0   \n",
       "837110                        11601.0                    20.0   \n",
       "667135                            6.0                     0.0   \n",
       "293864                         3952.0                   949.0   \n",
       "423185                            6.0                     0.0   \n",
       "\n",
       "          Fwd Packet Length Min   Fwd Packet Length Mean  ...  \\\n",
       "971704                      0.0                 0.000000  ...   \n",
       "306273                      0.0                 0.000000  ...   \n",
       "781166                      0.0                 0.000000  ...   \n",
       "1055732                     2.0                 2.000000  ...   \n",
       "837110                      0.0                10.000000  ...   \n",
       "667135                      0.0                 0.000000  ...   \n",
       "293864                      0.0               110.230769  ...   \n",
       "423185                      0.0                 0.000000  ...   \n",
       "\n",
       "          min_seg_size_forward  Active Mean   Active Std   Active Max  \\\n",
       "971704                      32          0.0          0.0          0.0   \n",
       "306273                      40          0.0          0.0          0.0   \n",
       "781166                      32          0.0          0.0          0.0   \n",
       "1055732                     24          0.0          0.0          0.0   \n",
       "837110                      20          0.0          0.0          0.0   \n",
       "667135                      40          0.0          0.0          0.0   \n",
       "293864                      32          0.0          0.0          0.0   \n",
       "423185                      40          0.0          0.0          0.0   \n",
       "\n",
       "          Active Min  Idle Mean   Idle Std   Idle Max   Idle Min   Label  \n",
       "971704           0.0        0.0        0.0        0.0        0.0       0  \n",
       "306273           0.0        0.0        0.0        0.0        0.0       1  \n",
       "781166           0.0        0.0        0.0        0.0        0.0       1  \n",
       "1055732          0.0        0.0        0.0        0.0        0.0       1  \n",
       "837110           0.0        0.0        0.0        0.0        0.0       1  \n",
       "667135           0.0        0.0        0.0        0.0        0.0       1  \n",
       "293864           0.0        0.0        0.0        0.0        0.0       0  \n",
       "423185           0.0        0.0        0.0        0.0        0.0       1  \n",
       "\n",
       "[8 rows x 69 columns]"
      ]
     },
     "execution_count": 3,
     "metadata": {},
     "output_type": "execute_result"
    }
   ],
   "source": [
    "df = pd.read_csv(\"cicids2017_balanced.csv\")\n",
    "df = df.sample(frac = 1)\n",
    "df.head(8)"
   ]
  },
  {
   "cell_type": "markdown",
   "id": "bd81a121-a6b8-4443-820e-bbded1f7d1dc",
   "metadata": {},
   "source": [
    "### Dataset partition"
   ]
  },
  {
   "cell_type": "code",
   "execution_count": 4,
   "id": "54808fc2-231a-48a1-af86-92e39e780a0c",
   "metadata": {},
   "outputs": [],
   "source": [
    "from sklearn.preprocessing import StandardScaler\n",
    "from sklearn.model_selection import train_test_split\n",
    "from sklearn.metrics import confusion_matrix\n",
    "\n",
    "import tensorflow as tf\n",
    "from keras.utils.vis_utils import plot_model"
   ]
  },
  {
   "cell_type": "code",
   "execution_count": 5,
   "id": "9c47453e-2f77-4b91-884b-e03221753d3d",
   "metadata": {},
   "outputs": [
    {
     "name": "stdout",
     "output_type": "stream",
     "text": [
      "Dataset partition:\n",
      " Train: (998748, 68) \n",
      " Test (428036, 68)\n"
     ]
    }
   ],
   "source": [
    "df_copy = df.copy()\n",
    "\n",
    "# Partición del dataset\n",
    "df_train, df_test = train_test_split(df, test_size = 0.3)\n",
    "\n",
    "\n",
    "y_train = np.array(df_train.pop(' Label'))\n",
    "y_test = np.array(df_test.pop(' Label'))\n",
    "\n",
    "train = np.array(df_train)\n",
    "test = np.array(df_test)\n",
    "\n",
    "\n",
    "print(\"Dataset partition:\\n\", \"Train:\", df_train.shape, \"\\n\", \"Test\", df_test.shape)"
   ]
  },
  {
   "cell_type": "markdown",
   "id": "3e112593-f99c-462e-853e-f4463dca9186",
   "metadata": {},
   "source": [
    "### Normalize the dataset"
   ]
  },
  {
   "cell_type": "code",
   "execution_count": 6,
   "id": "3a288e04-4359-4611-b53d-7cdaf223f06e",
   "metadata": {},
   "outputs": [
    {
     "name": "stdout",
     "output_type": "stream",
     "text": [
      "Dataset partition:\n",
      " Train: (998748, 68) \n",
      " Test (428036, 68)\n"
     ]
    }
   ],
   "source": [
    "# Escalar el dataset excepto las categorias\n",
    "scaler = StandardScaler() # Normalización de los datos\n",
    "\n",
    "x_train = scaler.fit_transform(train)\n",
    "x_test = scaler.transform(test)\n",
    "\n",
    "print(\"Dataset partition:\\n\", \"Train:\", x_train.shape, \"\\n\", \"Test\", x_test.shape)"
   ]
  },
  {
   "cell_type": "code",
   "execution_count": 7,
   "id": "e4ed451c-7eb0-4139-b9f5-6f1d4ba623f5",
   "metadata": {},
   "outputs": [],
   "source": [
    "from keras.layers import Input, Embedding, Dense, Dropout\n",
    "from keras.models import Model, Sequential"
   ]
  },
  {
   "cell_type": "markdown",
   "id": "16f5ccaa-e3fc-4f9f-8c16-efd97b762db3",
   "metadata": {},
   "source": [
    "# Multi Layer Perceptron (MLP)"
   ]
  },
  {
   "cell_type": "code",
   "execution_count": 8,
   "id": "60378b8a-1ddc-4083-8164-49c98b2411ff",
   "metadata": {},
   "outputs": [
    {
     "data": {
      "text/plain": [
       "68"
      ]
     },
     "execution_count": 8,
     "metadata": {},
     "output_type": "execute_result"
    }
   ],
   "source": [
    "input_shape = x_train.shape[1]\n",
    "input_shape"
   ]
  },
  {
   "cell_type": "code",
   "execution_count": 9,
   "id": "668a5c12-df70-4878-8dac-32eae8776a26",
   "metadata": {},
   "outputs": [],
   "source": [
    "def mlp_base(input_shape):\n",
    "    \n",
    "    Model_MLP = Sequential()\n",
    "    Model_MLP.add(Dense(5, input_dim=input_shape, activation=\"relu\"))\n",
    "    Model_MLP.add(Dense(2, activation=\"relu\"))\n",
    "    Model_MLP.add(Dense(1, activation=\"sigmoid\"))\n",
    "    \n",
    "    Model_MLP.compile(optimizer=keras.optimizers.SGD(), loss=keras.losses.BinaryCrossentropy())\n",
    "    \n",
    "    return Model_MLP"
   ]
  },
  {
   "cell_type": "code",
   "execution_count": 10,
   "id": "27291bcf-665a-4fcb-b766-438bb0768718",
   "metadata": {},
   "outputs": [
    {
     "name": "stdout",
     "output_type": "stream",
     "text": [
      "Model: \"sequential\"\n",
      "_________________________________________________________________\n",
      " Layer (type)                Output Shape              Param #   \n",
      "=================================================================\n",
      " dense (Dense)               (None, 5)                 345       \n",
      "                                                                 \n",
      " dense_1 (Dense)             (None, 2)                 12        \n",
      "                                                                 \n",
      " dense_2 (Dense)             (None, 1)                 3         \n",
      "                                                                 \n",
      "=================================================================\n",
      "Total params: 360\n",
      "Trainable params: 360\n",
      "Non-trainable params: 0\n",
      "_________________________________________________________________\n"
     ]
    }
   ],
   "source": [
    "Perceptron = mlp_base(input_shape)\n",
    "Perceptron.summary()"
   ]
  },
  {
   "cell_type": "code",
   "execution_count": 11,
   "id": "fc4c4e8f-45c8-4f16-9d80-db97b01a70e0",
   "metadata": {},
   "outputs": [
    {
     "data": {
      "text/plain": [
       "array([[0.30903876],\n",
       "       [0.5       ],\n",
       "       [0.5018198 ],\n",
       "       [0.44721556],\n",
       "       [0.5024537 ],\n",
       "       [0.50399876],\n",
       "       [0.57946754],\n",
       "       [0.17607394],\n",
       "       [0.5       ],\n",
       "       [0.50274646]], dtype=float32)"
      ]
     },
     "execution_count": 11,
     "metadata": {},
     "output_type": "execute_result"
    }
   ],
   "source": [
    "Perceptron.predict(x_train[:10])"
   ]
  },
  {
   "cell_type": "code",
   "execution_count": 12,
   "id": "fc5dc0b6-8c23-4f85-968d-392970843de5",
   "metadata": {},
   "outputs": [
    {
     "name": "stdout",
     "output_type": "stream",
     "text": [
      "Epoch 1/20\n",
      "89888/89888 [==============================] - 204s 2ms/step - loss: 0.1626 - val_loss: 0.1314\n",
      "Epoch 2/20\n",
      "89888/89888 [==============================] - 210s 2ms/step - loss: 0.1325 - val_loss: 0.1372\n",
      "Epoch 3/20\n",
      "89888/89888 [==============================] - 216s 2ms/step - loss: 0.1273 - val_loss: 0.1214\n",
      "Epoch 4/20\n",
      "89888/89888 [==============================] - 212s 2ms/step - loss: 0.1197 - val_loss: 0.1025\n",
      "Epoch 5/20\n",
      "89888/89888 [==============================] - 190s 2ms/step - loss: 0.1044 - val_loss: 0.1047\n",
      "Epoch 6/20\n",
      "89888/89888 [==============================] - 179s 2ms/step - loss: 0.1026 - val_loss: 0.1026\n",
      "Epoch 7/20\n",
      "89888/89888 [==============================] - 181s 2ms/step - loss: 0.1005 - val_loss: 0.0984\n",
      "Epoch 8/20\n",
      "89888/89888 [==============================] - 179s 2ms/step - loss: 0.1028 - val_loss: 0.1009\n",
      "Epoch 9/20\n",
      "89888/89888 [==============================] - 178s 2ms/step - loss: 0.0955 - val_loss: 0.0973\n",
      "Epoch 10/20\n",
      "89888/89888 [==============================] - 190s 2ms/step - loss: 0.0928 - val_loss: 0.0968\n",
      "Epoch 11/20\n",
      "89888/89888 [==============================] - 186s 2ms/step - loss: 0.0927 - val_loss: 0.0908\n",
      "Epoch 12/20\n",
      "89888/89888 [==============================] - 184s 2ms/step - loss: 0.0924 - val_loss: 0.0933\n",
      "Epoch 13/20\n",
      "89888/89888 [==============================] - 179s 2ms/step - loss: 0.0923 - val_loss: 0.0903\n",
      "Epoch 14/20\n",
      "89888/89888 [==============================] - 178s 2ms/step - loss: 0.0915 - val_loss: 0.1049\n",
      "Epoch 15/20\n",
      "89888/89888 [==============================] - 182s 2ms/step - loss: 0.0918 - val_loss: 0.0979\n",
      "Epoch 16/20\n",
      "89888/89888 [==============================] - 183s 2ms/step - loss: 0.0913 - val_loss: 0.0911\n",
      "Epoch 17/20\n",
      "89888/89888 [==============================] - 184s 2ms/step - loss: 0.0910 - val_loss: 0.0887\n",
      "Epoch 18/20\n",
      "89888/89888 [==============================] - 189s 2ms/step - loss: 0.0918 - val_loss: 0.0916\n",
      "Epoch 19/20\n",
      "89888/89888 [==============================] - 185s 2ms/step - loss: 0.0893 - val_loss: 0.0908\n",
      "Epoch 20/20\n",
      "89888/89888 [==============================] - 185s 2ms/step - loss: 0.0906 - val_loss: 0.0872\n"
     ]
    }
   ],
   "source": [
    "perceptron_hist = Perceptron.fit(x_train, y_train, epochs=20, batch_size=10, validation_split=0.1, verbose=1)"
   ]
  },
  {
   "cell_type": "code",
   "execution_count": 13,
   "id": "c646ea46-b5d7-4b83-91e9-27ae64f90c3b",
   "metadata": {},
   "outputs": [
    {
     "data": {
      "image/png": "[encoded data removed]",
      "text/plain": [
       "<Figure size 1008x576 with 1 Axes>"
      ]
     },
     "metadata": {
      "needs_background": "light"
     },
     "output_type": "display_data"
    }
   ],
   "source": [
    "def plot_loss(hist):\n",
    "    \n",
    "    epoch_count = range(1, len(hist.history['loss']) + 1)\n",
    "    \n",
    "    plt.figure(figsize=(14,8))\n",
    "    plt.semilogy(epoch_count, hist.history['loss'], label=\"Train\")\n",
    "    plt.semilogy(epoch_count, hist.history['val_loss'], label=\"Validation\")\n",
    "    plt.xlabel(\"Epoch\")\n",
    "    plt.ylabel(\"Loss\")\n",
    "    plt.legend()\n",
    "    \n",
    "plot_loss(perceptron_hist)"
   ]
  },
  {
   "cell_type": "code",
   "execution_count": 14,
   "id": "e70be578-697f-4473-aba1-e937d7a57c8c",
   "metadata": {},
   "outputs": [
    {
     "name": "stdout",
     "output_type": "stream",
     "text": [
      "              precision    recall  f1-score   support\n",
      "\n",
      "           0       0.98      0.97      0.97    214478\n",
      "           1       0.97      0.98      0.97    213558\n",
      "\n",
      "    accuracy                           0.97    428036\n",
      "   macro avg       0.97      0.97      0.97    428036\n",
      "weighted avg       0.97      0.97      0.97    428036\n",
      "\n",
      "True Negative:  207787\n",
      "False Positive:  6691\n",
      "False Negative:  4421\n",
      "True Negative:  209137\n",
      "True Positive Rate (Recall):  0.9792983639105067\n",
      "True Negative Rate (Specificity):  0.9688033271477727\n",
      "False Negative Rate:  0.020701636089493252\n",
      "False Positive Rate:  0.03119667285222727\n",
      "Precision:  0.9689984617380507\n"
     ]
    },
    {
     "data": {
      "image/png": "[encoded data removed]",
      "text/plain": [
       "<Figure size 1008x576 with 2 Axes>"
      ]
     },
     "metadata": {
      "needs_background": "light"
     },
     "output_type": "display_data"
    }
   ],
   "source": [
    "evaluate_model(Perceptron, x_test, y_test)"
   ]
  },
  {
   "cell_type": "code",
   "execution_count": 15,
   "id": "cddf3c4d-14b0-4e51-93dd-29fd08598647",
   "metadata": {},
   "outputs": [
    {
     "name": "stdout",
     "output_type": "stream",
     "text": [
      "Model: \"sequential_1\"\n",
      "_________________________________________________________________\n",
      " Layer (type)                Output Shape              Param #   \n",
      "=================================================================\n",
      " dense_3 (Dense)             (None, 5)                 345       \n",
      "                                                                 \n",
      " dense_4 (Dense)             (None, 2)                 12        \n",
      "                                                                 \n",
      " dense_5 (Dense)             (None, 1)                 3         \n",
      "                                                                 \n",
      "=================================================================\n",
      "Total params: 360\n",
      "Trainable params: 360\n",
      "Non-trainable params: 0\n",
      "_________________________________________________________________\n"
     ]
    }
   ],
   "source": [
    "Perceptron2 = mlp_base(input_shape)\n",
    "Perceptron2.summary()\n",
    "\n",
    "earlystopping = tf.keras.callbacks.EarlyStopping(monitor='val_loss', \n",
    "                                                        patience=1, \n",
    "                                                        verbose=1,\n",
    "                                                        mode='max',\n",
    "                                                        restore_best_weights=False)\n"
   ]
  },
  {
   "cell_type": "code",
   "execution_count": 16,
   "id": "1b3fa96e-4cd6-416d-8a18-a7ac99062dfd",
   "metadata": {},
   "outputs": [
    {
     "name": "stdout",
     "output_type": "stream",
     "text": [
      "Epoch 1/20\n",
      "89888/89888 [==============================] - 180s 2ms/step - loss: 0.1361 - val_loss: 0.1212\n",
      "Epoch 2/20\n",
      "89888/89888 [==============================] - 183s 2ms/step - loss: 0.1165 - val_loss: 0.1181\n",
      "Epoch 2: early stopping\n"
     ]
    }
   ],
   "source": [
    "perceptron2_hist = Perceptron2.fit(x_train, y_train, epochs=20, batch_size=10, validation_split=0.1, verbose=1, callbacks=[earlystopping])"
   ]
  },
  {
   "cell_type": "code",
   "execution_count": 17,
   "id": "23fbe6a4-f4bd-439d-b4cf-b4140ce1cbc3",
   "metadata": {},
   "outputs": [
    {
     "data": {
      "image/png": "[encoded data removed]",
      "text/plain": [
       "<Figure size 1008x576 with 1 Axes>"
      ]
     },
     "metadata": {
      "needs_background": "light"
     },
     "output_type": "display_data"
    }
   ],
   "source": [
    "plot_loss(perceptron2_hist)"
   ]
  },
  {
   "cell_type": "code",
   "execution_count": 18,
   "id": "a805cf0c-c7c0-414b-8c08-1d3a44ccb9a5",
   "metadata": {},
   "outputs": [
    {
     "name": "stdout",
     "output_type": "stream",
     "text": [
      "              precision    recall  f1-score   support\n",
      "\n",
      "           0       0.97      0.96      0.96    214478\n",
      "           1       0.96      0.97      0.97    213558\n",
      "\n",
      "    accuracy                           0.96    428036\n",
      "   macro avg       0.97      0.96      0.96    428036\n",
      "weighted avg       0.97      0.96      0.96    428036\n",
      "\n",
      "True Negative:  204871\n",
      "False Positive:  9607\n",
      "False Negative:  5414\n",
      "True Negative:  208144\n",
      "True Positive Rate (Recall):  0.9746485732213263\n",
      "True Negative Rate (Specificity):  0.9552075271123379\n",
      "False Negative Rate:  0.02535142677867371\n",
      "False Positive Rate:  0.04479247288766214\n",
      "Precision:  0.955880799628934\n"
     ]
    },
    {
     "data": {
      "image/png": "[encoded data removed]",
      "text/plain": [
       "<Figure size 1008x576 with 2 Axes>"
      ]
     },
     "metadata": {
      "needs_background": "light"
     },
     "output_type": "display_data"
    }
   ],
   "source": [
    "evaluate_model(Perceptron2, x_test, y_test)"
   ]
  },
  {
   "cell_type": "markdown",
   "id": "f915ff91-eba2-47df-86f0-66baaf12cb95",
   "metadata": {},
   "source": [
    "### Save models"
   ]
  },
  {
   "cell_type": "code",
   "execution_count": 19,
   "id": "954b52d6-8811-46bd-a411-4ac6d7be7701",
   "metadata": {},
   "outputs": [],
   "source": [
    "Perceptron.save('saved_models/perceptron1.h5')\n",
    "Perceptron2.save('saved_models/perceptron2.h5')"
   ]
  },
  {
   "cell_type": "code",
   "execution_count": null,
   "id": "c475caba-e862-4d54-9fd2-dc87a8162140",
   "metadata": {},
   "outputs": [],
   "source": []
  }
 ],
 "metadata": {
  "kernelspec": {
   "display_name": "Python 3 (ipykernel)",
   "language": "python",
   "name": "python3"
  },
  "language_info": {
   "codemirror_mode": {
    "name": "ipython",
    "version": 3
   },
   "file_extension": ".py",
   "mimetype": "text/x-python",
   "name": "python",
   "nbconvert_exporter": "python",
   "pygments_lexer": "ipython3",
   "version": "3.8.10"
  }
 },
 "nbformat": 4,
 "nbformat_minor": 5
}
