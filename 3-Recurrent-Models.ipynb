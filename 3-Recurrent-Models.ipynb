{
 "cells": [
  {
   "cell_type": "code",
   "execution_count": 1,
   "id": "6a9f53e2-715a-4242-8721-53a1858472dc",
   "metadata": {},
   "outputs": [],
   "source": [
    "import numpy as np\n",
    "import pandas as pd\n",
    "import seaborn as sns\n",
    "import matplotlib.pyplot as plt\n",
    "from collections import Counter\n",
    "from string import ascii_letters"
   ]
  },
  {
   "cell_type": "code",
   "execution_count": 2,
   "id": "ddaaeb06-e050-4a9f-83b8-7e1259332fc3",
   "metadata": {},
   "outputs": [
    {
     "name": "stderr",
     "output_type": "stream",
     "text": [
      "2023-05-20 08:31:40.574778: W tensorflow/stream_executor/platform/default/dso_loader.cc:64] Could not load dynamic library 'libcudart.so.11.0'; dlerror: libcudart.so.11.0: cannot open shared object file: No such file or directory\n",
      "2023-05-20 08:31:40.574799: I tensorflow/stream_executor/cuda/cudart_stub.cc:29] Ignore above cudart dlerror if you do not have a GPU set up on your machine.\n",
      "2023-05-20 08:31:42.230130: W tensorflow/stream_executor/platform/default/dso_loader.cc:64] Could not load dynamic library 'libcuda.so.1'; dlerror: libcuda.so.1: cannot open shared object file: No such file or directory\n",
      "2023-05-20 08:31:42.230158: W tensorflow/stream_executor/cuda/cuda_driver.cc:269] failed call to cuInit: UNKNOWN ERROR (303)\n",
      "2023-05-20 08:31:42.230178: I tensorflow/stream_executor/cuda/cuda_diagnostics.cc:156] kernel driver does not appear to be running on this host (santiagoguiral-hp-p15): /proc/driver/nvidia/version does not exist\n",
      "2023-05-20 08:31:42.230403: I tensorflow/core/platform/cpu_feature_guard.cc:151] This TensorFlow binary is optimized with oneAPI Deep Neural Network Library (oneDNN) to use the following CPU instructions in performance-critical operations:  AVX2 FMA\n",
      "To enable them in other operations, rebuild TensorFlow with the appropriate compiler flags.\n"
     ]
    }
   ],
   "source": [
    "from tensorflow import keras\n",
    "from sklearn.metrics import confusion_matrix\n",
    "from sklearn.metrics import classification_report\n",
    "import seaborn as sn\n",
    "\n",
    "def evaluate_model (model,x_test,y_test):\n",
    "    y_predicted = model.predict(x_test)\n",
    "    y_predicted = np.array([0 if prediction < 0.5 else 1 for prediction in y_predicted])\n",
    "    cm = confusion_matrix(y_test, y_predicted)\n",
    "    print(classification_report(y_test,y_predicted))\n",
    "    tn, fp, fn, tp = confusion_matrix(y_test, y_predicted).ravel()\n",
    "    \n",
    "    #metrics\n",
    "    print(\"True Negative: \",tn)\n",
    "    print(\"False Positive: \",fp)\n",
    "    print(\"False Negative: \",fn)\n",
    "    print(\"True Negative: \",tp)\n",
    "    \n",
    "    tpr = tp/(tp+fn) #Recall\n",
    "    tnr = tn/(tn+fp) #Specificity\n",
    "    fnr = fn/(fn+tp)\n",
    "    fpr = fp/(fp+tn)\n",
    "    precision = tp/(tp+fp)\n",
    "    \n",
    "    print(\"True Positive Rate (Recall): \",tpr)\n",
    "    print(\"True Negative Rate (Specificity): \",tnr)\n",
    "    print(\"False Negative Rate: \",fnr)\n",
    "    print(\"False Positive Rate: \",fpr)\n",
    "    print(\"Precision: \",precision)\n",
    "    \n",
    "    #confusion matrix\n",
    "    plt.figure(figsize=(12,6))\n",
    "    sn.heatmap(cm, annot=True)\n",
    "    plt.xlabel('Predicted', fontsize=24)\n",
    "    plt.ylabel('Truth',fontsize=24)\n",
    "    \n",
    "\n",
    "Metrics = [\n",
    "    keras.metrics.TruePositives(name = 'tp'),\n",
    "    keras.metrics.FalsePositives(name = 'fp'),\n",
    "    keras.metrics.TrueNegatives(name = 'tn'),\n",
    "    keras.metrics.FalseNegatives(name = 'fn'),\n",
    "    keras.metrics.BinaryAccuracy(name = \"accuracy\"),\n",
    "    keras.metrics.Precision(name = 'precision'),\n",
    "    keras.metrics.Recall(name = 'recall')\n",
    "    \n",
    "]"
   ]
  },
  {
   "cell_type": "code",
   "execution_count": 13,
   "id": "d80b6f14-241f-4e42-ab86-77f9c9f4696b",
   "metadata": {},
   "outputs": [],
   "source": [
    "def plot_loss(hist):\n",
    "    \n",
    "    epoch_count = range(1, len(hist.history['loss']) + 1)\n",
    "    \n",
    "    plt.figure(figsize=(12,6))\n",
    "    plt.semilogy(epoch_count, hist.history['loss'], label=\"Train\")\n",
    "    plt.semilogy(epoch_count, hist.history['val_loss'], label=\"Validation\")\n",
    "    plt.xlabel(\"Epoch\")\n",
    "    plt.ylabel(\"Loss\")\n",
    "    plt.legend()"
   ]
  },
  {
   "cell_type": "code",
   "execution_count": 14,
   "id": "27d02201-10e9-4bef-b64d-4ba984dfe692",
   "metadata": {},
   "outputs": [
    {
     "data": {
      "text/html": [
       "<div>\n",
       "<style scoped>\n",
       "    .dataframe tbody tr th:only-of-type {\n",
       "        vertical-align: middle;\n",
       "    }\n",
       "\n",
       "    .dataframe tbody tr th {\n",
       "        vertical-align: top;\n",
       "    }\n",
       "\n",
       "    .dataframe thead th {\n",
       "        text-align: right;\n",
       "    }\n",
       "</style>\n",
       "<table border=\"1\" class=\"dataframe\">\n",
       "  <thead>\n",
       "    <tr style=\"text-align: right;\">\n",
       "      <th></th>\n",
       "      <th>Source Port</th>\n",
       "      <th>Destination Port</th>\n",
       "      <th>Flow Duration</th>\n",
       "      <th>Total Fwd Packets</th>\n",
       "      <th>Total Backward Packets</th>\n",
       "      <th>Total Length of Fwd Packets</th>\n",
       "      <th>Total Length of Bwd Packets</th>\n",
       "      <th>Fwd Packet Length Max</th>\n",
       "      <th>Fwd Packet Length Min</th>\n",
       "      <th>Fwd Packet Length Mean</th>\n",
       "      <th>...</th>\n",
       "      <th>min_seg_size_forward</th>\n",
       "      <th>Active Mean</th>\n",
       "      <th>Active Std</th>\n",
       "      <th>Active Max</th>\n",
       "      <th>Active Min</th>\n",
       "      <th>Idle Mean</th>\n",
       "      <th>Idle Std</th>\n",
       "      <th>Idle Max</th>\n",
       "      <th>Idle Min</th>\n",
       "      <th>Label</th>\n",
       "    </tr>\n",
       "  </thead>\n",
       "  <tbody>\n",
       "    <tr>\n",
       "      <th>1080305</th>\n",
       "      <td>57988</td>\n",
       "      <td>443</td>\n",
       "      <td>142</td>\n",
       "      <td>2</td>\n",
       "      <td>0</td>\n",
       "      <td>12.0</td>\n",
       "      <td>0.0</td>\n",
       "      <td>6.0</td>\n",
       "      <td>6.0</td>\n",
       "      <td>6.000000</td>\n",
       "      <td>...</td>\n",
       "      <td>20</td>\n",
       "      <td>0.0</td>\n",
       "      <td>0.0</td>\n",
       "      <td>0.0</td>\n",
       "      <td>0.0</td>\n",
       "      <td>0.0</td>\n",
       "      <td>0.0</td>\n",
       "      <td>0.0</td>\n",
       "      <td>0.0</td>\n",
       "      <td>0</td>\n",
       "    </tr>\n",
       "    <tr>\n",
       "      <th>516184</th>\n",
       "      <td>38576</td>\n",
       "      <td>4045</td>\n",
       "      <td>49</td>\n",
       "      <td>1</td>\n",
       "      <td>1</td>\n",
       "      <td>0.0</td>\n",
       "      <td>6.0</td>\n",
       "      <td>0.0</td>\n",
       "      <td>0.0</td>\n",
       "      <td>0.000000</td>\n",
       "      <td>...</td>\n",
       "      <td>40</td>\n",
       "      <td>0.0</td>\n",
       "      <td>0.0</td>\n",
       "      <td>0.0</td>\n",
       "      <td>0.0</td>\n",
       "      <td>0.0</td>\n",
       "      <td>0.0</td>\n",
       "      <td>0.0</td>\n",
       "      <td>0.0</td>\n",
       "      <td>1</td>\n",
       "    </tr>\n",
       "    <tr>\n",
       "      <th>1173370</th>\n",
       "      <td>57526</td>\n",
       "      <td>80</td>\n",
       "      <td>85037077</td>\n",
       "      <td>7</td>\n",
       "      <td>6</td>\n",
       "      <td>344.0</td>\n",
       "      <td>11595.0</td>\n",
       "      <td>338.0</td>\n",
       "      <td>0.0</td>\n",
       "      <td>49.142857</td>\n",
       "      <td>...</td>\n",
       "      <td>20</td>\n",
       "      <td>956.0</td>\n",
       "      <td>0.0</td>\n",
       "      <td>956.0</td>\n",
       "      <td>956.0</td>\n",
       "      <td>84900000.0</td>\n",
       "      <td>0.0</td>\n",
       "      <td>84900000.0</td>\n",
       "      <td>84900000.0</td>\n",
       "      <td>1</td>\n",
       "    </tr>\n",
       "    <tr>\n",
       "      <th>484401</th>\n",
       "      <td>39140</td>\n",
       "      <td>32771</td>\n",
       "      <td>76</td>\n",
       "      <td>1</td>\n",
       "      <td>1</td>\n",
       "      <td>0.0</td>\n",
       "      <td>6.0</td>\n",
       "      <td>0.0</td>\n",
       "      <td>0.0</td>\n",
       "      <td>0.000000</td>\n",
       "      <td>...</td>\n",
       "      <td>40</td>\n",
       "      <td>0.0</td>\n",
       "      <td>0.0</td>\n",
       "      <td>0.0</td>\n",
       "      <td>0.0</td>\n",
       "      <td>0.0</td>\n",
       "      <td>0.0</td>\n",
       "      <td>0.0</td>\n",
       "      <td>0.0</td>\n",
       "      <td>1</td>\n",
       "    </tr>\n",
       "    <tr>\n",
       "      <th>618334</th>\n",
       "      <td>50352</td>\n",
       "      <td>5555</td>\n",
       "      <td>50</td>\n",
       "      <td>1</td>\n",
       "      <td>1</td>\n",
       "      <td>0.0</td>\n",
       "      <td>6.0</td>\n",
       "      <td>0.0</td>\n",
       "      <td>0.0</td>\n",
       "      <td>0.000000</td>\n",
       "      <td>...</td>\n",
       "      <td>40</td>\n",
       "      <td>0.0</td>\n",
       "      <td>0.0</td>\n",
       "      <td>0.0</td>\n",
       "      <td>0.0</td>\n",
       "      <td>0.0</td>\n",
       "      <td>0.0</td>\n",
       "      <td>0.0</td>\n",
       "      <td>0.0</td>\n",
       "      <td>1</td>\n",
       "    </tr>\n",
       "    <tr>\n",
       "      <th>936652</th>\n",
       "      <td>35517</td>\n",
       "      <td>3659</td>\n",
       "      <td>70</td>\n",
       "      <td>2</td>\n",
       "      <td>2</td>\n",
       "      <td>4.0</td>\n",
       "      <td>12.0</td>\n",
       "      <td>2.0</td>\n",
       "      <td>2.0</td>\n",
       "      <td>2.000000</td>\n",
       "      <td>...</td>\n",
       "      <td>24</td>\n",
       "      <td>0.0</td>\n",
       "      <td>0.0</td>\n",
       "      <td>0.0</td>\n",
       "      <td>0.0</td>\n",
       "      <td>0.0</td>\n",
       "      <td>0.0</td>\n",
       "      <td>0.0</td>\n",
       "      <td>0.0</td>\n",
       "      <td>0</td>\n",
       "    </tr>\n",
       "    <tr>\n",
       "      <th>781571</th>\n",
       "      <td>52172</td>\n",
       "      <td>80</td>\n",
       "      <td>451820</td>\n",
       "      <td>3</td>\n",
       "      <td>4</td>\n",
       "      <td>26.0</td>\n",
       "      <td>11601.0</td>\n",
       "      <td>20.0</td>\n",
       "      <td>0.0</td>\n",
       "      <td>8.666667</td>\n",
       "      <td>...</td>\n",
       "      <td>20</td>\n",
       "      <td>0.0</td>\n",
       "      <td>0.0</td>\n",
       "      <td>0.0</td>\n",
       "      <td>0.0</td>\n",
       "      <td>0.0</td>\n",
       "      <td>0.0</td>\n",
       "      <td>0.0</td>\n",
       "      <td>0.0</td>\n",
       "      <td>1</td>\n",
       "    </tr>\n",
       "    <tr>\n",
       "      <th>465099</th>\n",
       "      <td>443</td>\n",
       "      <td>10437</td>\n",
       "      <td>3</td>\n",
       "      <td>2</td>\n",
       "      <td>0</td>\n",
       "      <td>12.0</td>\n",
       "      <td>0.0</td>\n",
       "      <td>6.0</td>\n",
       "      <td>6.0</td>\n",
       "      <td>6.000000</td>\n",
       "      <td>...</td>\n",
       "      <td>20</td>\n",
       "      <td>0.0</td>\n",
       "      <td>0.0</td>\n",
       "      <td>0.0</td>\n",
       "      <td>0.0</td>\n",
       "      <td>0.0</td>\n",
       "      <td>0.0</td>\n",
       "      <td>0.0</td>\n",
       "      <td>0.0</td>\n",
       "      <td>0</td>\n",
       "    </tr>\n",
       "  </tbody>\n",
       "</table>\n",
       "<p>8 rows × 69 columns</p>\n",
       "</div>"
      ],
      "text/plain": [
       "          Source Port   Destination Port   Flow Duration   Total Fwd Packets  \\\n",
       "1080305         57988                443             142                   2   \n",
       "516184          38576               4045              49                   1   \n",
       "1173370         57526                 80        85037077                   7   \n",
       "484401          39140              32771              76                   1   \n",
       "618334          50352               5555              50                   1   \n",
       "936652          35517               3659              70                   2   \n",
       "781571          52172                 80          451820                   3   \n",
       "465099            443              10437               3                   2   \n",
       "\n",
       "          Total Backward Packets  Total Length of Fwd Packets  \\\n",
       "1080305                        0                         12.0   \n",
       "516184                         1                          0.0   \n",
       "1173370                        6                        344.0   \n",
       "484401                         1                          0.0   \n",
       "618334                         1                          0.0   \n",
       "936652                         2                          4.0   \n",
       "781571                         4                         26.0   \n",
       "465099                         0                         12.0   \n",
       "\n",
       "          Total Length of Bwd Packets   Fwd Packet Length Max  \\\n",
       "1080305                           0.0                     6.0   \n",
       "516184                            6.0                     0.0   \n",
       "1173370                       11595.0                   338.0   \n",
       "484401                            6.0                     0.0   \n",
       "618334                            6.0                     0.0   \n",
       "936652                           12.0                     2.0   \n",
       "781571                        11601.0                    20.0   \n",
       "465099                            0.0                     6.0   \n",
       "\n",
       "          Fwd Packet Length Min   Fwd Packet Length Mean  ...  \\\n",
       "1080305                     6.0                 6.000000  ...   \n",
       "516184                      0.0                 0.000000  ...   \n",
       "1173370                     0.0                49.142857  ...   \n",
       "484401                      0.0                 0.000000  ...   \n",
       "618334                      0.0                 0.000000  ...   \n",
       "936652                      2.0                 2.000000  ...   \n",
       "781571                      0.0                 8.666667  ...   \n",
       "465099                      6.0                 6.000000  ...   \n",
       "\n",
       "          min_seg_size_forward  Active Mean   Active Std   Active Max  \\\n",
       "1080305                     20          0.0          0.0          0.0   \n",
       "516184                      40          0.0          0.0          0.0   \n",
       "1173370                     20        956.0          0.0        956.0   \n",
       "484401                      40          0.0          0.0          0.0   \n",
       "618334                      40          0.0          0.0          0.0   \n",
       "936652                      24          0.0          0.0          0.0   \n",
       "781571                      20          0.0          0.0          0.0   \n",
       "465099                      20          0.0          0.0          0.0   \n",
       "\n",
       "          Active Min   Idle Mean   Idle Std    Idle Max    Idle Min   Label  \n",
       "1080305          0.0         0.0        0.0         0.0         0.0       0  \n",
       "516184           0.0         0.0        0.0         0.0         0.0       1  \n",
       "1173370        956.0  84900000.0        0.0  84900000.0  84900000.0       1  \n",
       "484401           0.0         0.0        0.0         0.0         0.0       1  \n",
       "618334           0.0         0.0        0.0         0.0         0.0       1  \n",
       "936652           0.0         0.0        0.0         0.0         0.0       0  \n",
       "781571           0.0         0.0        0.0         0.0         0.0       1  \n",
       "465099           0.0         0.0        0.0         0.0         0.0       0  \n",
       "\n",
       "[8 rows x 69 columns]"
      ]
     },
     "execution_count": 14,
     "metadata": {},
     "output_type": "execute_result"
    }
   ],
   "source": [
    "df = pd.read_csv(\"cicids2017_balanced.csv\")\n",
    "df = df.sample(frac = 1)\n",
    "df.head(8)"
   ]
  },
  {
   "cell_type": "markdown",
   "id": "bd81a121-a6b8-4443-820e-bbded1f7d1dc",
   "metadata": {},
   "source": [
    "### Dataset partition"
   ]
  },
  {
   "cell_type": "code",
   "execution_count": 4,
   "id": "54808fc2-231a-48a1-af86-92e39e780a0c",
   "metadata": {},
   "outputs": [],
   "source": [
    "from sklearn.preprocessing import StandardScaler\n",
    "from sklearn.model_selection import train_test_split\n",
    "from sklearn.metrics import confusion_matrix\n",
    "\n",
    "import tensorflow as tf\n",
    "from keras.utils.vis_utils import plot_model"
   ]
  },
  {
   "cell_type": "code",
   "execution_count": 5,
   "id": "9c47453e-2f77-4b91-884b-e03221753d3d",
   "metadata": {},
   "outputs": [
    {
     "name": "stdout",
     "output_type": "stream",
     "text": [
      "Dataset partition:\n",
      " Train: (998748, 68) \n",
      " Test (428036, 68)\n"
     ]
    }
   ],
   "source": [
    "df_copy = df.copy()\n",
    "\n",
    "# Partición del dataset\n",
    "df_train, df_test = train_test_split(df, test_size = 0.3, random_state=1)\n",
    "\n",
    "\n",
    "y_train = np.array(df_train.pop(' Label'))\n",
    "y_test = np.array(df_test.pop(' Label'))\n",
    "\n",
    "train = np.array(df_train)\n",
    "test = np.array(df_test)\n",
    "\n",
    "\n",
    "print(\"Dataset partition:\\n\", \"Train:\", df_train.shape, \"\\n\", \"Test\", df_test.shape)"
   ]
  },
  {
   "cell_type": "markdown",
   "id": "3e112593-f99c-462e-853e-f4463dca9186",
   "metadata": {},
   "source": [
    "### Normalize the dataset"
   ]
  },
  {
   "cell_type": "code",
   "execution_count": 6,
   "id": "3a288e04-4359-4611-b53d-7cdaf223f06e",
   "metadata": {},
   "outputs": [
    {
     "name": "stdout",
     "output_type": "stream",
     "text": [
      "Dataset partition:\n",
      " Train: (998748, 68) \n",
      " Test (428036, 68)\n"
     ]
    }
   ],
   "source": [
    "# Escalar el dataset excepto las categorias\n",
    "scaler = StandardScaler() # Normalización de los datos\n",
    "\n",
    "x_train = scaler.fit_transform(train)\n",
    "x_test = scaler.transform(test)\n",
    "\n",
    "print(\"Dataset partition:\\n\", \"Train:\", x_train.shape, \"\\n\", \"Test\", x_test.shape)"
   ]
  },
  {
   "cell_type": "code",
   "execution_count": 7,
   "id": "e4ed451c-7eb0-4139-b9f5-6f1d4ba623f5",
   "metadata": {},
   "outputs": [],
   "source": [
    "from keras.layers import Input, Embedding, Dense, Dropout\n",
    "from keras.layers import SimpleRNN, GRU, LSTM\n",
    "from keras.models import Model, Sequential"
   ]
  },
  {
   "cell_type": "markdown",
   "id": "16f5ccaa-e3fc-4f9f-8c16-efd97b762db3",
   "metadata": {},
   "source": [
    "# Neural Network"
   ]
  },
  {
   "cell_type": "code",
   "execution_count": 8,
   "id": "60378b8a-1ddc-4083-8164-49c98b2411ff",
   "metadata": {},
   "outputs": [
    {
     "data": {
      "text/plain": [
       "68"
      ]
     },
     "execution_count": 8,
     "metadata": {},
     "output_type": "execute_result"
    }
   ],
   "source": [
    "input_shape = x_train.shape[1]\n",
    "input_shape"
   ]
  },
  {
   "cell_type": "code",
   "execution_count": 9,
   "id": "668a5c12-df70-4878-8dac-32eae8776a26",
   "metadata": {},
   "outputs": [],
   "source": [
    "def RNN_model(dim_input, x_train_shape):\n",
    "    \n",
    "    dropout = 0.2\n",
    "    \n",
    "    RNN_model = Sequential()\n",
    "    RNN_model.add(SimpleRNN(dim_input, input_shape=[x_train_shape,1], activation=\"tanh\"))\n",
    "    RNN_model.add(Dropout(dropout))\n",
    "    RNN_model.add(Dense(10, activation=\"tanh\"))\n",
    "    RNN_model.add(Dense(1, activation=\"sigmoid\"))\n",
    "    \n",
    "    RNN_model.compile(optimizer=keras.optimizers.Adam(), loss=keras.losses.BinaryCrossentropy())\n",
    "\n",
    "    return RNN_model"
   ]
  },
  {
   "cell_type": "code",
   "execution_count": 10,
   "id": "27291bcf-665a-4fcb-b766-438bb0768718",
   "metadata": {},
   "outputs": [
    {
     "name": "stdout",
     "output_type": "stream",
     "text": [
      "Model: \"sequential\"\n",
      "_________________________________________________________________\n",
      " Layer (type)                Output Shape              Param #   \n",
      "=================================================================\n",
      " simple_rnn (SimpleRNN)      (None, 68)                4760      \n",
      "                                                                 \n",
      " dropout (Dropout)           (None, 68)                0         \n",
      "                                                                 \n",
      " dense (Dense)               (None, 10)                690       \n",
      "                                                                 \n",
      " dense_1 (Dense)             (None, 1)                 11        \n",
      "                                                                 \n",
      "=================================================================\n",
      "Total params: 5,461\n",
      "Trainable params: 5,461\n",
      "Non-trainable params: 0\n",
      "_________________________________________________________________\n"
     ]
    }
   ],
   "source": [
    "Model1 = RNN_model(input_shape, x_train.shape[1])\n",
    "Model1.summary()"
   ]
  },
  {
   "cell_type": "code",
   "execution_count": 11,
   "id": "fc5dc0b6-8c23-4f85-968d-392970843de5",
   "metadata": {},
   "outputs": [
    {
     "name": "stdout",
     "output_type": "stream",
     "text": [
      "Epoch 1/30\n",
      "899/899 [==============================] - 81s 89ms/step - loss: 0.1267 - val_loss: 0.0776\n",
      "Epoch 2/30\n",
      "899/899 [==============================] - 84s 93ms/step - loss: 0.0767 - val_loss: 0.0686\n",
      "Epoch 3/30\n",
      "899/899 [==============================] - 85s 95ms/step - loss: 0.0646 - val_loss: 0.0540\n",
      "Epoch 4/30\n",
      "899/899 [==============================] - 83s 93ms/step - loss: 0.0608 - val_loss: 0.0717\n",
      "Epoch 5/30\n",
      "899/899 [==============================] - 83s 92ms/step - loss: 0.0574 - val_loss: 0.0528\n",
      "Epoch 6/30\n",
      "899/899 [==============================] - 88s 97ms/step - loss: 0.0556 - val_loss: 0.0518\n",
      "Epoch 7/30\n",
      "899/899 [==============================] - 80s 89ms/step - loss: 0.0549 - val_loss: 0.0505\n",
      "Epoch 8/30\n",
      "899/899 [==============================] - 83s 92ms/step - loss: 0.0538 - val_loss: 0.0460\n",
      "Epoch 9/30\n",
      "899/899 [==============================] - 83s 92ms/step - loss: 0.0514 - val_loss: 0.0446\n",
      "Epoch 10/30\n",
      "899/899 [==============================] - 82s 92ms/step - loss: 0.0508 - val_loss: 0.0434\n",
      "Epoch 11/30\n",
      "899/899 [==============================] - 87s 97ms/step - loss: 0.0501 - val_loss: 0.0461\n",
      "Epoch 12/30\n",
      "899/899 [==============================] - 78s 87ms/step - loss: 0.0509 - val_loss: 0.0599\n",
      "Epoch 13/30\n",
      "899/899 [==============================] - 78s 86ms/step - loss: 0.0494 - val_loss: 0.0415\n",
      "Epoch 14/30\n",
      "899/899 [==============================] - 78s 86ms/step - loss: 0.0484 - val_loss: 0.0521\n",
      "Epoch 15/30\n",
      "899/899 [==============================] - 77s 86ms/step - loss: 0.0502 - val_loss: 0.0439\n",
      "Epoch 16/30\n",
      "899/899 [==============================] - 78s 87ms/step - loss: 0.0475 - val_loss: 0.0428\n",
      "Epoch 17/30\n",
      "899/899 [==============================] - 77s 86ms/step - loss: 0.0474 - val_loss: 0.0393\n",
      "Epoch 18/30\n",
      "899/899 [==============================] - 77s 85ms/step - loss: 0.0472 - val_loss: 0.0461\n",
      "Epoch 19/30\n",
      "899/899 [==============================] - 82s 92ms/step - loss: 0.0481 - val_loss: 0.0456\n",
      "Epoch 20/30\n",
      "899/899 [==============================] - 86s 95ms/step - loss: 0.0463 - val_loss: 0.0405\n",
      "Epoch 21/30\n",
      "899/899 [==============================] - 83s 92ms/step - loss: 0.0465 - val_loss: 0.0423\n",
      "Epoch 22/30\n",
      "899/899 [==============================] - 79s 88ms/step - loss: 0.0504 - val_loss: 0.0446\n",
      "Epoch 23/30\n",
      "899/899 [==============================] - 85s 95ms/step - loss: 0.0466 - val_loss: 0.0513\n",
      "Epoch 24/30\n",
      "899/899 [==============================] - 85s 95ms/step - loss: 0.0461 - val_loss: 0.0464\n",
      "Epoch 25/30\n",
      "899/899 [==============================] - 85s 94ms/step - loss: 0.0463 - val_loss: 0.0406\n",
      "Epoch 26/30\n",
      "899/899 [==============================] - 78s 87ms/step - loss: 0.0490 - val_loss: 0.0417\n",
      "Epoch 27/30\n",
      "899/899 [==============================] - 77s 86ms/step - loss: 0.0455 - val_loss: 0.0418\n",
      "Epoch 28/30\n",
      "899/899 [==============================] - 77s 85ms/step - loss: 0.0461 - val_loss: 0.0456\n",
      "Epoch 29/30\n",
      "899/899 [==============================] - 76s 85ms/step - loss: 0.0473 - val_loss: 0.0736\n",
      "Epoch 30/30\n",
      "899/899 [==============================] - 77s 85ms/step - loss: 0.0471 - val_loss: 0.0438\n"
     ]
    }
   ],
   "source": [
    "model1_hist = Model1.fit(x_train, y_train, epochs=30, batch_size=1000, validation_split=0.1, verbose=1)"
   ]
  },
  {
   "cell_type": "code",
   "execution_count": 12,
   "id": "c646ea46-b5d7-4b83-91e9-27ae64f90c3b",
   "metadata": {},
   "outputs": [
    {
     "data": {
      "image/png": "[encoded data removed]",
      "text/plain": [
       "<Figure size 864x432 with 1 Axes>"
      ]
     },
     "metadata": {
      "needs_background": "light"
     },
     "output_type": "display_data"
    }
   ],
   "source": [
    "plot_loss(model1_hist)"
   ]
  },
  {
   "cell_type": "code",
   "execution_count": 13,
   "id": "e70be578-697f-4473-aba1-e937d7a57c8c",
   "metadata": {},
   "outputs": [
    {
     "name": "stdout",
     "output_type": "stream",
     "text": [
      "              precision    recall  f1-score   support\n",
      "\n",
      "           0       0.99      0.97      0.98    213920\n",
      "           1       0.97      0.99      0.98    214116\n",
      "\n",
      "    accuracy                           0.98    428036\n",
      "   macro avg       0.98      0.98      0.98    428036\n",
      "weighted avg       0.98      0.98      0.98    428036\n",
      "\n",
      "True Negative:  208209\n",
      "False Positive:  5711\n",
      "False Negative:  1376\n",
      "True Negative:  212740\n",
      "True Positive Rate (Recall):  0.9935735769396028\n",
      "True Negative Rate (Specificity):  0.9733031039640987\n",
      "False Negative Rate:  0.006426423060397168\n",
      "False Positive Rate:  0.026696896035901273\n",
      "Precision:  0.9738568374601169\n"
     ]
    },
    {
     "data": {
      "image/png": "[encoded data removed]",
      "text/plain": [
       "<Figure size 864x432 with 2 Axes>"
      ]
     },
     "metadata": {
      "needs_background": "light"
     },
     "output_type": "display_data"
    }
   ],
   "source": [
    "evaluate_model(Model1, x_test, y_test)"
   ]
  },
  {
   "cell_type": "code",
   "execution_count": 14,
   "id": "f4a31efd-279f-49dc-a67a-ef9679a3bbc4",
   "metadata": {},
   "outputs": [],
   "source": [
    "Model1.save('saved_models/RNNModel1.h5')"
   ]
  },
  {
   "cell_type": "code",
   "execution_count": 27,
   "id": "cddf3c4d-14b0-4e51-93dd-29fd08598647",
   "metadata": {},
   "outputs": [
    {
     "name": "stdout",
     "output_type": "stream",
     "text": [
      "Model: \"sequential_4\"\n",
      "_________________________________________________________________\n",
      " Layer (type)                Output Shape              Param #   \n",
      "=================================================================\n",
      " simple_rnn_2 (SimpleRNN)    (None, 68)                4760      \n",
      "                                                                 \n",
      " dropout_4 (Dropout)         (None, 68)                0         \n",
      "                                                                 \n",
      " dense_8 (Dense)             (None, 10)                690       \n",
      "                                                                 \n",
      " dense_9 (Dense)             (None, 1)                 11        \n",
      "                                                                 \n",
      "=================================================================\n",
      "Total params: 5,461\n",
      "Trainable params: 5,461\n",
      "Non-trainable params: 0\n",
      "_________________________________________________________________\n"
     ]
    }
   ],
   "source": [
    "Model2 = RNN_model(input_shape, x_train.shape[1])\n",
    "Model2.summary()\n",
    "\n",
    "earlystopping = tf.keras.callbacks.EarlyStopping(monitor='loss', \n",
    "                                                        patience=1, \n",
    "                                                        verbose=1,\n",
    "                                                        mode='max',\n",
    "                                                        restore_best_weights=False)\n"
   ]
  },
  {
   "cell_type": "code",
   "execution_count": 28,
   "id": "1b3fa96e-4cd6-416d-8a18-a7ac99062dfd",
   "metadata": {},
   "outputs": [
    {
     "name": "stdout",
     "output_type": "stream",
     "text": [
      "Epoch 1/20\n",
      "899/899 [==============================] - 69s 76ms/step - loss: 0.1320 - val_loss: 0.0785\n",
      "Epoch 2/20\n",
      "899/899 [==============================] - 77s 85ms/step - loss: 0.0734 - val_loss: 0.0605\n",
      "Epoch 2: early stopping\n"
     ]
    }
   ],
   "source": [
    "model2_hist = Model2.fit(x_train, y_train, epochs=20, batch_size=1000, validation_split=0.1, verbose=1, callbacks=[earlystopping])"
   ]
  },
  {
   "cell_type": "code",
   "execution_count": 29,
   "id": "23fbe6a4-f4bd-439d-b4cf-b4140ce1cbc3",
   "metadata": {},
   "outputs": [
    {
     "data": {
      "image/png": "[encoded data removed]",
      "text/plain": [
       "<Figure size 864x432 with 1 Axes>"
      ]
     },
     "metadata": {
      "needs_background": "light"
     },
     "output_type": "display_data"
    }
   ],
   "source": [
    "plot_loss(model2_hist)"
   ]
  },
  {
   "cell_type": "code",
   "execution_count": 30,
   "id": "a805cf0c-c7c0-414b-8c08-1d3a44ccb9a5",
   "metadata": {},
   "outputs": [
    {
     "name": "stdout",
     "output_type": "stream",
     "text": [
      "              precision    recall  f1-score   support\n",
      "\n",
      "           0       0.99      0.97      0.98    213920\n",
      "           1       0.97      0.99      0.98    214116\n",
      "\n",
      "    accuracy                           0.98    428036\n",
      "   macro avg       0.98      0.98      0.98    428036\n",
      "weighted avg       0.98      0.98      0.98    428036\n",
      "\n",
      "True Negative:  207782\n",
      "False Positive:  6138\n",
      "False Negative:  2951\n",
      "True Negative:  211165\n",
      "True Positive Rate (Recall):  0.9862177511255581\n",
      "True Negative Rate (Specificity):  0.9713070306656694\n",
      "False Negative Rate:  0.01378224887444189\n",
      "False Positive Rate:  0.02869296933433059\n",
      "Precision:  0.9717537263636489\n"
     ]
    },
    {
     "data": {
      "image/png": "[encoded data removed]",
      "text/plain": [
       "<Figure size 864x432 with 2 Axes>"
      ]
     },
     "metadata": {
      "needs_background": "light"
     },
     "output_type": "display_data"
    }
   ],
   "source": [
    "evaluate_model(Model2, x_test, y_test)"
   ]
  },
  {
   "cell_type": "code",
   "execution_count": 31,
   "id": "c69dc8d4-3ce9-407e-aaf6-1c56aefc1736",
   "metadata": {},
   "outputs": [],
   "source": [
    "def GRU_model(dim_input, x_train_shape):\n",
    "    \n",
    "    dropout = 0.2\n",
    "    \n",
    "    GRU_model = Sequential()\n",
    "    GRU_model.add(GRU(dim_input, input_shape=[x_train_shape,1], activation=\"tanh\"))\n",
    "    GRU_model.add(Dropout(dropout))\n",
    "    GRU_model.add(Dense(10, activation=\"tanh\"))\n",
    "    GRU_model.add(Dense(1, activation=\"sigmoid\"))\n",
    "    \n",
    "    GRU_model.compile(optimizer=keras.optimizers.Adam(), loss=keras.losses.BinaryCrossentropy())\n",
    "\n",
    "    return GRU_model"
   ]
  },
  {
   "cell_type": "code",
   "execution_count": 32,
   "id": "c94256ed-1720-4634-85c8-90244940f722",
   "metadata": {},
   "outputs": [
    {
     "name": "stdout",
     "output_type": "stream",
     "text": [
      "Model: \"sequential_5\"\n",
      "_________________________________________________________________\n",
      " Layer (type)                Output Shape              Param #   \n",
      "=================================================================\n",
      " gru_2 (GRU)                 (None, 68)                14484     \n",
      "                                                                 \n",
      " dropout_5 (Dropout)         (None, 68)                0         \n",
      "                                                                 \n",
      " dense_10 (Dense)            (None, 10)                690       \n",
      "                                                                 \n",
      " dense_11 (Dense)            (None, 1)                 11        \n",
      "                                                                 \n",
      "=================================================================\n",
      "Total params: 15,185\n",
      "Trainable params: 15,185\n",
      "Non-trainable params: 0\n",
      "_________________________________________________________________\n"
     ]
    }
   ],
   "source": [
    "Model3 = GRU_model(input_shape, x_train.shape[1])\n",
    "Model3.summary()"
   ]
  },
  {
   "cell_type": "code",
   "execution_count": 33,
   "id": "298c6fb4-e1a5-4c16-bf24-27eaf0c34961",
   "metadata": {},
   "outputs": [
    {
     "name": "stdout",
     "output_type": "stream",
     "text": [
      "Epoch 1/50\n",
      "899/899 [==============================] - 240s 263ms/step - loss: 0.2558 - val_loss: 0.1276\n",
      "Epoch 2/50\n",
      "899/899 [==============================] - 261s 291ms/step - loss: 0.1078 - val_loss: 0.0908\n",
      "Epoch 3/50\n",
      "899/899 [==============================] - 334s 371ms/step - loss: 0.0853 - val_loss: 0.0760\n",
      "Epoch 4/50\n",
      "899/899 [==============================] - 337s 375ms/step - loss: 0.0748 - val_loss: 0.0688\n",
      "Epoch 5/50\n",
      "899/899 [==============================] - 331s 368ms/step - loss: 0.0678 - val_loss: 0.0605\n",
      "Epoch 6/50\n",
      "899/899 [==============================] - 295s 329ms/step - loss: 0.0640 - val_loss: 0.0605\n",
      "Epoch 7/50\n",
      "899/899 [==============================] - 296s 329ms/step - loss: 0.0615 - val_loss: 0.0600\n",
      "Epoch 8/50\n",
      "899/899 [==============================] - 330s 367ms/step - loss: 0.0600 - val_loss: 0.0547\n",
      "Epoch 9/50\n",
      "899/899 [==============================] - 264s 294ms/step - loss: 0.0572 - val_loss: 0.0540\n",
      "Epoch 10/50\n",
      "899/899 [==============================] - 241s 268ms/step - loss: 0.0562 - val_loss: 0.0520\n",
      "Epoch 11/50\n",
      "899/899 [==============================] - 316s 351ms/step - loss: 0.0550 - val_loss: 0.0516\n",
      "Epoch 12/50\n",
      "899/899 [==============================] - 330s 367ms/step - loss: 0.0538 - val_loss: 0.0500\n",
      "Epoch 13/50\n",
      "899/899 [==============================] - 311s 346ms/step - loss: 0.0525 - val_loss: 0.0478\n",
      "Epoch 14/50\n",
      "899/899 [==============================] - 344s 383ms/step - loss: 0.0513 - val_loss: 0.0458\n",
      "Epoch 15/50\n",
      "899/899 [==============================] - 297s 330ms/step - loss: 0.0502 - val_loss: 0.0459\n",
      "Epoch 16/50\n",
      "899/899 [==============================] - 248s 276ms/step - loss: 0.0496 - val_loss: 0.0456\n",
      "Epoch 17/50\n",
      "899/899 [==============================] - 243s 270ms/step - loss: 0.0489 - val_loss: 0.0468\n",
      "Epoch 18/50\n",
      "899/899 [==============================] - 239s 266ms/step - loss: 0.0484 - val_loss: 0.0449\n",
      "Epoch 19/50\n",
      "899/899 [==============================] - 235s 261ms/step - loss: 0.0476 - val_loss: 0.0457\n",
      "Epoch 20/50\n",
      "899/899 [==============================] - 235s 262ms/step - loss: 0.0472 - val_loss: 0.0454\n",
      "Epoch 21/50\n",
      "899/899 [==============================] - 230s 256ms/step - loss: 0.0467 - val_loss: 0.0449\n",
      "Epoch 22/50\n",
      "899/899 [==============================] - 243s 271ms/step - loss: 0.0461 - val_loss: 0.0461\n",
      "Epoch 23/50\n",
      "899/899 [==============================] - 297s 331ms/step - loss: 0.0449 - val_loss: 0.0437\n",
      "Epoch 24/50\n",
      "899/899 [==============================] - 287s 319ms/step - loss: 0.0441 - val_loss: 0.0400\n",
      "Epoch 25/50\n",
      "899/899 [==============================] - 342s 380ms/step - loss: 0.0438 - val_loss: 0.0401\n",
      "Epoch 26/50\n",
      "899/899 [==============================] - 365s 406ms/step - loss: 0.0420 - val_loss: 0.0380\n",
      "Epoch 27/50\n",
      "899/899 [==============================] - 302s 336ms/step - loss: 0.0417 - val_loss: 0.0395\n",
      "Epoch 28/50\n",
      "899/899 [==============================] - 295s 329ms/step - loss: 0.0408 - val_loss: 0.0383\n",
      "Epoch 29/50\n",
      "899/899 [==============================] - 288s 321ms/step - loss: 0.0411 - val_loss: 0.0374\n",
      "Epoch 30/50\n",
      "899/899 [==============================] - 295s 328ms/step - loss: 0.0404 - val_loss: 0.0367\n",
      "Epoch 31/50\n",
      "899/899 [==============================] - 303s 337ms/step - loss: 0.0402 - val_loss: 0.0363\n",
      "Epoch 32/50\n",
      "899/899 [==============================] - 290s 322ms/step - loss: 0.0401 - val_loss: 0.0404\n",
      "Epoch 33/50\n",
      "899/899 [==============================] - 286s 318ms/step - loss: 0.0391 - val_loss: 0.0351\n",
      "Epoch 34/50\n",
      "899/899 [==============================] - 273s 303ms/step - loss: 0.0403 - val_loss: 0.0380\n",
      "Epoch 35/50\n",
      "899/899 [==============================] - 310s 345ms/step - loss: 0.0410 - val_loss: 0.0463\n",
      "Epoch 36/50\n",
      "899/899 [==============================] - 256s 284ms/step - loss: 0.0386 - val_loss: 0.0486\n",
      "Epoch 37/50\n",
      "899/899 [==============================] - 276s 307ms/step - loss: 0.0380 - val_loss: 0.0336\n",
      "Epoch 38/50\n",
      "899/899 [==============================] - 274s 305ms/step - loss: 0.0394 - val_loss: 0.0333\n",
      "Epoch 39/50\n",
      "899/899 [==============================] - 267s 297ms/step - loss: 0.0382 - val_loss: 0.0440\n",
      "Epoch 40/50\n",
      "899/899 [==============================] - 278s 309ms/step - loss: 0.0388 - val_loss: 0.0340\n",
      "Epoch 41/50\n",
      "899/899 [==============================] - 280s 311ms/step - loss: 0.0376 - val_loss: 0.0383\n",
      "Epoch 42/50\n",
      "899/899 [==============================] - 279s 311ms/step - loss: 0.0373 - val_loss: 0.0333\n",
      "Epoch 43/50\n",
      "899/899 [==============================] - 229s 254ms/step - loss: 0.0387 - val_loss: 0.0435\n",
      "Epoch 44/50\n",
      "899/899 [==============================] - 225s 250ms/step - loss: 0.0389 - val_loss: 0.0348\n",
      "Epoch 45/50\n",
      "899/899 [==============================] - 225s 250ms/step - loss: 0.0377 - val_loss: 0.0393\n",
      "Epoch 46/50\n",
      "899/899 [==============================] - 226s 251ms/step - loss: 0.0362 - val_loss: 0.0344\n",
      "Epoch 47/50\n",
      "899/899 [==============================] - 225s 250ms/step - loss: 0.0365 - val_loss: 0.0411\n",
      "Epoch 48/50\n",
      "899/899 [==============================] - 224s 250ms/step - loss: 0.0368 - val_loss: 0.0343\n",
      "Epoch 49/50\n",
      "899/899 [==============================] - 225s 250ms/step - loss: 0.0396 - val_loss: 0.0369\n",
      "Epoch 50/50\n",
      "899/899 [==============================] - 224s 250ms/step - loss: 0.0362 - val_loss: 0.0342\n"
     ]
    }
   ],
   "source": [
    "model3_hist = Model3.fit(x_train, y_train, epochs=50, batch_size=1000, validation_split=0.1, verbose=1)"
   ]
  },
  {
   "cell_type": "code",
   "execution_count": 34,
   "id": "1ebc5b2e-14e4-4f0e-94ad-2153826993e1",
   "metadata": {},
   "outputs": [
    {
     "data": {
      "image/png": "[encoded data removed]",
      "text/plain": [
       "<Figure size 864x432 with 1 Axes>"
      ]
     },
     "metadata": {
      "needs_background": "light"
     },
     "output_type": "display_data"
    }
   ],
   "source": [
    "plot_loss(model3_hist)"
   ]
  },
  {
   "cell_type": "code",
   "execution_count": 36,
   "id": "b9b3ac17-ba9b-409d-b8aa-628efebccfd8",
   "metadata": {},
   "outputs": [
    {
     "name": "stdout",
     "output_type": "stream",
     "text": [
      "              precision    recall  f1-score   support\n",
      "\n",
      "           0       1.00      0.98      0.99    213920\n",
      "           1       0.98      1.00      0.99    214116\n",
      "\n",
      "    accuracy                           0.99    428036\n",
      "   macro avg       0.99      0.99      0.99    428036\n",
      "weighted avg       0.99      0.99      0.99    428036\n",
      "\n",
      "True Negative:  209400\n",
      "False Positive:  4520\n",
      "False Negative:  628\n",
      "True Negative:  213488\n",
      "True Positive Rate (Recall):  0.9970670104055745\n",
      "True Negative Rate (Specificity):  0.9788706058339566\n",
      "False Negative Rate:  0.0029329895944254516\n",
      "False Positive Rate:  0.02112939416604338\n",
      "Precision:  0.9792668158966643\n"
     ]
    },
    {
     "data": {
      "image/png": "[encoded data removed]",
      "text/plain": [
       "<Figure size 864x432 with 2 Axes>"
      ]
     },
     "metadata": {
      "needs_background": "light"
     },
     "output_type": "display_data"
    }
   ],
   "source": [
    "evaluate_model(Model3, x_test, y_test)"
   ]
  },
  {
   "cell_type": "code",
   "execution_count": 35,
   "id": "85be86e4-3b85-4514-8e01-4f6a12dfee71",
   "metadata": {},
   "outputs": [],
   "source": [
    "Model3.save('saved_models/GRUModel1.h5')"
   ]
  },
  {
   "cell_type": "markdown",
   "id": "ef6d2302-7311-4cc7-8b8e-093b0708ff3a",
   "metadata": {},
   "source": [
    "### LSTM"
   ]
  },
  {
   "cell_type": "code",
   "execution_count": 9,
   "id": "61442f29-dc76-494a-b5c6-b69a88dd9952",
   "metadata": {},
   "outputs": [],
   "source": [
    "def LSTM_model(dim_input, x_train_shape):\n",
    "    \n",
    "    dropout = 0.2\n",
    "    \n",
    "    LSTM_model = Sequential()\n",
    "    LSTM_model.add(LSTM(dim_input, input_shape=[x_train_shape,1], activation=\"tanh\"))\n",
    "    LSTM_model.add(Dropout(dropout))\n",
    "    LSTM_model.add(Dense(10, activation=\"tanh\"))\n",
    "    LSTM_model.add(Dense(1, activation=\"sigmoid\"))\n",
    "    \n",
    "    LSTM_model.compile(optimizer=keras.optimizers.Adam(), loss=keras.losses.BinaryCrossentropy())\n",
    "\n",
    "    return LSTM_model"
   ]
  },
  {
   "cell_type": "code",
   "execution_count": 10,
   "id": "e7d44a55-f812-407c-b33a-95ff84efaaa5",
   "metadata": {},
   "outputs": [
    {
     "name": "stdout",
     "output_type": "stream",
     "text": [
      "Model: \"sequential\"\n",
      "_________________________________________________________________\n",
      " Layer (type)                Output Shape              Param #   \n",
      "=================================================================\n",
      " lstm (LSTM)                 (None, 68)                19040     \n",
      "                                                                 \n",
      " dropout (Dropout)           (None, 68)                0         \n",
      "                                                                 \n",
      " dense (Dense)               (None, 10)                690       \n",
      "                                                                 \n",
      " dense_1 (Dense)             (None, 1)                 11        \n",
      "                                                                 \n",
      "=================================================================\n",
      "Total params: 19,741\n",
      "Trainable params: 19,741\n",
      "Non-trainable params: 0\n",
      "_________________________________________________________________\n"
     ]
    }
   ],
   "source": [
    "Model4 = LSTM_model(input_shape, x_train.shape[1])\n",
    "Model4.summary()"
   ]
  },
  {
   "cell_type": "code",
   "execution_count": 11,
   "id": "11a90524-bad0-4322-828e-9f29a556ec0a",
   "metadata": {},
   "outputs": [
    {
     "name": "stdout",
     "output_type": "stream",
     "text": [
      "Epoch 1/50\n",
      "899/899 [==============================] - 327s 361ms/step - loss: 0.2260 - val_loss: 0.1243\n",
      "Epoch 2/50\n",
      "899/899 [==============================] - 312s 347ms/step - loss: 0.1173 - val_loss: 0.0919\n",
      "Epoch 3/50\n",
      "899/899 [==============================] - 311s 346ms/step - loss: 0.0909 - val_loss: 0.0786\n",
      "Epoch 4/50\n",
      "899/899 [==============================] - 312s 347ms/step - loss: 0.0801 - val_loss: 0.0810\n",
      "Epoch 5/50\n",
      "899/899 [==============================] - 311s 346ms/step - loss: 0.0746 - val_loss: 0.0674\n",
      "Epoch 6/50\n",
      "899/899 [==============================] - 312s 347ms/step - loss: 0.0719 - val_loss: 0.0693\n",
      "Epoch 7/50\n",
      "899/899 [==============================] - 312s 347ms/step - loss: 0.0717 - val_loss: 0.1166\n",
      "Epoch 8/50\n",
      "899/899 [==============================] - 312s 347ms/step - loss: 0.0675 - val_loss: 0.0628\n",
      "Epoch 9/50\n",
      "899/899 [==============================] - 312s 347ms/step - loss: 0.0632 - val_loss: 0.0568\n",
      "Epoch 10/50\n",
      "899/899 [==============================] - 313s 348ms/step - loss: 0.0617 - val_loss: 0.0592\n",
      "Epoch 11/50\n",
      "899/899 [==============================] - 310s 345ms/step - loss: 0.0604 - val_loss: 0.0592\n",
      "Epoch 12/50\n",
      "899/899 [==============================] - 310s 345ms/step - loss: 0.0590 - val_loss: 0.0582\n",
      "Epoch 13/50\n",
      "899/899 [==============================] - 317s 352ms/step - loss: 0.0592 - val_loss: 0.0585\n",
      "Epoch 14/50\n",
      "899/899 [==============================] - 313s 348ms/step - loss: 0.0556 - val_loss: 0.0514\n",
      "Epoch 15/50\n",
      "899/899 [==============================] - 313s 349ms/step - loss: 0.0580 - val_loss: 0.0523\n",
      "Epoch 16/50\n",
      "899/899 [==============================] - 312s 347ms/step - loss: 0.0546 - val_loss: 0.0522\n",
      "Epoch 17/50\n",
      "899/899 [==============================] - 314s 349ms/step - loss: 0.0528 - val_loss: 0.0511\n",
      "Epoch 18/50\n",
      "899/899 [==============================] - 306s 340ms/step - loss: 0.0528 - val_loss: 0.0487\n",
      "Epoch 19/50\n",
      "899/899 [==============================] - 305s 339ms/step - loss: 0.0542 - val_loss: 0.0478\n",
      "Epoch 20/50\n",
      "899/899 [==============================] - 306s 341ms/step - loss: 0.0521 - val_loss: 0.0506\n",
      "Epoch 21/50\n",
      "899/899 [==============================] - 279s 311ms/step - loss: 0.0505 - val_loss: 0.0497\n",
      "Epoch 22/50\n",
      "899/899 [==============================] - 265s 295ms/step - loss: 0.0500 - val_loss: 0.0476\n",
      "Epoch 23/50\n",
      "899/899 [==============================] - 240s 267ms/step - loss: 0.0495 - val_loss: 0.0473\n",
      "Epoch 24/50\n",
      "899/899 [==============================] - 243s 271ms/step - loss: 0.0495 - val_loss: 0.0478\n",
      "Epoch 25/50\n",
      "899/899 [==============================] - 241s 268ms/step - loss: 0.0483 - val_loss: 0.0462\n",
      "Epoch 26/50\n",
      "899/899 [==============================] - 295s 328ms/step - loss: 0.0477 - val_loss: 0.0462\n",
      "Epoch 27/50\n",
      "899/899 [==============================] - 308s 342ms/step - loss: 0.0474 - val_loss: 0.0512\n",
      "Epoch 28/50\n",
      "899/899 [==============================] - 288s 320ms/step - loss: 0.0482 - val_loss: 0.0517\n",
      "Epoch 29/50\n",
      "899/899 [==============================] - 285s 317ms/step - loss: 0.0462 - val_loss: 0.0468\n",
      "Epoch 30/50\n",
      "899/899 [==============================] - 261s 290ms/step - loss: 0.0466 - val_loss: 0.0437\n",
      "Epoch 31/50\n",
      "899/899 [==============================] - 267s 296ms/step - loss: 0.0462 - val_loss: 0.0499\n",
      "Epoch 32/50\n",
      "899/899 [==============================] - 296s 329ms/step - loss: 0.0458 - val_loss: 0.0447\n",
      "Epoch 33/50\n",
      "899/899 [==============================] - 293s 325ms/step - loss: 0.0465 - val_loss: 0.0465\n",
      "Epoch 34/50\n",
      "899/899 [==============================] - 290s 323ms/step - loss: 0.0449 - val_loss: 0.0441\n",
      "Epoch 35/50\n",
      "899/899 [==============================] - 271s 302ms/step - loss: 0.0449 - val_loss: 0.0423\n",
      "Epoch 36/50\n",
      "899/899 [==============================] - 265s 294ms/step - loss: 0.0455 - val_loss: 0.0417\n",
      "Epoch 37/50\n",
      "899/899 [==============================] - 282s 314ms/step - loss: 0.0442 - val_loss: 0.0438\n",
      "Epoch 38/50\n",
      "899/899 [==============================] - 274s 305ms/step - loss: 0.0440 - val_loss: 0.0423\n",
      "Epoch 39/50\n",
      "899/899 [==============================] - 265s 295ms/step - loss: 0.0437 - val_loss: 0.0402\n",
      "Epoch 40/50\n",
      "899/899 [==============================] - 261s 291ms/step - loss: 0.0442 - val_loss: 0.0461\n",
      "Epoch 41/50\n",
      "899/899 [==============================] - 266s 295ms/step - loss: 0.0432 - val_loss: 0.0406\n",
      "Epoch 42/50\n",
      "899/899 [==============================] - 270s 301ms/step - loss: 0.0435 - val_loss: 0.0485\n",
      "Epoch 43/50\n",
      "899/899 [==============================] - 257s 285ms/step - loss: 0.0439 - val_loss: 0.0425\n",
      "Epoch 44/50\n",
      "899/899 [==============================] - 263s 293ms/step - loss: 0.0432 - val_loss: 0.0470\n",
      "Epoch 45/50\n",
      "899/899 [==============================] - 258s 287ms/step - loss: 0.0447 - val_loss: 0.0455\n",
      "Epoch 46/50\n",
      "899/899 [==============================] - 267s 298ms/step - loss: 0.0425 - val_loss: 0.0403\n",
      "Epoch 47/50\n",
      "899/899 [==============================] - 269s 299ms/step - loss: 0.0426 - val_loss: 0.0397\n",
      "Epoch 48/50\n",
      "899/899 [==============================] - 267s 297ms/step - loss: 0.0429 - val_loss: 0.0431\n",
      "Epoch 49/50\n",
      "899/899 [==============================] - 266s 296ms/step - loss: 0.0425 - val_loss: 0.0418\n",
      "Epoch 50/50\n",
      "899/899 [==============================] - 268s 298ms/step - loss: 0.0424 - val_loss: 0.0399\n"
     ]
    }
   ],
   "source": [
    "model4_hist = Model4.fit(x_train, y_train, epochs=50, batch_size=1000, validation_split=0.1, verbose=1)"
   ]
  },
  {
   "cell_type": "code",
   "execution_count": 15,
   "id": "c778d645-ebca-490b-86f5-84d0dd6828b7",
   "metadata": {},
   "outputs": [
    {
     "data": {
      "image/png": "[encoded data removed]",
      "text/plain": [
       "<Figure size 864x432 with 1 Axes>"
      ]
     },
     "metadata": {
      "needs_background": "light"
     },
     "output_type": "display_data"
    }
   ],
   "source": [
    "plot_loss(model4_hist)"
   ]
  },
  {
   "cell_type": "code",
   "execution_count": 16,
   "id": "fe793a59-e74e-4429-a4c2-45158d5a235b",
   "metadata": {},
   "outputs": [
    {
     "name": "stdout",
     "output_type": "stream",
     "text": [
      "              precision    recall  f1-score   support\n",
      "\n",
      "           0       0.99      0.98      0.98    214352\n",
      "           1       0.98      0.99      0.99    213684\n",
      "\n",
      "    accuracy                           0.99    428036\n",
      "   macro avg       0.99      0.99      0.99    428036\n",
      "weighted avg       0.99      0.99      0.99    428036\n",
      "\n",
      "True Negative:  209664\n",
      "False Positive:  4688\n",
      "False Negative:  1728\n",
      "True Negative:  211956\n",
      "True Positive Rate (Recall):  0.9919132925254114\n",
      "True Negative Rate (Specificity):  0.9781294319623797\n",
      "False Negative Rate:  0.008086707474588645\n",
      "False Positive Rate:  0.02187056803762036\n",
      "Precision:  0.9783608131312199\n"
     ]
    },
    {
     "data": {
      "image/png": "[encoded data removed]",
      "text/plain": [
       "<Figure size 864x432 with 2 Axes>"
      ]
     },
     "metadata": {
      "needs_background": "light"
     },
     "output_type": "display_data"
    }
   ],
   "source": [
    "evaluate_model(Model4, x_test, y_test)"
   ]
  },
  {
   "cell_type": "code",
   "execution_count": 17,
   "id": "06bf1135-089b-4d29-9d82-c32df109fa29",
   "metadata": {},
   "outputs": [],
   "source": [
    "Model4.save('saved_models/LSTMModel1.h5')"
   ]
  },
  {
   "cell_type": "code",
   "execution_count": null,
   "id": "6dbb9bf1-94ab-4372-8cea-9f86be6ba131",
   "metadata": {},
   "outputs": [],
   "source": []
  }
 ],
 "metadata": {
  "kernelspec": {
   "display_name": "Python 3 (ipykernel)",
   "language": "python",
   "name": "python3"
  },
  "language_info": {
   "codemirror_mode": {
    "name": "ipython",
    "version": 3
   },
   "file_extension": ".py",
   "mimetype": "text/x-python",
   "name": "python",
   "nbconvert_exporter": "python",
   "pygments_lexer": "ipython3",
   "version": "3.8.10"
  }
 },
 "nbformat": 4,
 "nbformat_minor": 5
}
